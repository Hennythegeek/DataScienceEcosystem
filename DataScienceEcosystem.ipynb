{
 "cells": [
  {
   "cell_type": "markdown",
   "id": "c9768d85-7f8c-4712-b83b-bb0fe9116738",
   "metadata": {},
   "source": [
    "# Data Science Tools and Ecosystem\n"
   ]
  },
  {
   "cell_type": "markdown",
   "id": "1cf33380-767a-45cb-a995-0b09ece94847",
   "metadata": {},
   "source": [
    "This is where all the materials and sources for Data Science Tools and Ecosystem are located and summarized.\n"
   ]
  },
  {
   "cell_type": "markdown",
   "id": "17b3c534-37ee-462b-95ab-a45c9233618b",
   "metadata": {},
   "source": [
    "# __Objectives:__\n",
    "+ List languages used in Data Science.\n",
    "+ List libraries used in Data Science.\n",
    "+ Add and multiple integers\n",
    "+ Convert minutes to hours\n"
   ]
  },
  {
   "cell_type": "markdown",
   "id": "b3a339a5-d9f5-4743-b391-d28e63507659",
   "metadata": {},
   "source": [
    " Here are the some of the most popular languages used in data science:\n",
    "1. python\n",
    "2. R\n",
    "3. SQL\n"
   ]
  },
  {
   "cell_type": "markdown",
   "id": "3e5190f4-5435-452a-843d-9ea5a4210214",
   "metadata": {},
   "source": [
    " Some of the commonly used libraries used by Data Scientists include: \n",
    "1. NumPy \n",
    "2. Pandas \n",
    "3. ggplot \n",
    "4. caret\n",
    "5. seaborn\n"
   ]
  },
  {
   "cell_type": "markdown",
   "id": "364e7e6a-a47b-456e-b0a1-b356c56fee6b",
   "metadata": {},
   "source": [
    "| Data Science Tools       |\n",
    "|--------------------------|\n",
    "| Jupyter Notebook         |\n",
    "| RStudio                  |\n",
    "| Visual Studio Code       |\n",
    "\n"
   ]
  },
  {
   "cell_type": "markdown",
   "id": "f95c1589-4f7b-4ae3-b048-92151a698893",
   "metadata": {},
   "source": [
    "### Below are a few examples of evaluating arithmetic expressions in Python\n",
    "\n"
   ]
  },
  {
   "cell_type": "code",
   "execution_count": 11,
   "id": "5d567a0c-64d6-4e13-898e-68db07c039a8",
   "metadata": {},
   "outputs": [
    {
     "data": {
      "text/plain": [
       "17"
      ]
     },
     "execution_count": 11,
     "metadata": {},
     "output_type": "execute_result"
    }
   ],
   "source": [
    "#This a simple arithmetic expression to mutiply then add integers\n",
    "result = (3*4)+5\n",
    "result\n"
   ]
  },
  {
   "cell_type": "code",
   "execution_count": 12,
   "id": "5783e0cd-3979-48ee-9c99-ccd344a40345",
   "metadata": {},
   "outputs": [
    {
     "data": {
      "text/plain": [
       "3.3333333333333335"
      ]
     },
     "execution_count": 12,
     "metadata": {},
     "output_type": "execute_result"
    }
   ],
   "source": [
    "#This will convert 200 minutes to hours by diving by 60\n",
    "time= 200/60\n",
    "time"
   ]
  },
  {
   "cell_type": "markdown",
   "id": "5aad2391-5960-4c2e-ae35-842467258d9a",
   "metadata": {},
   "source": [
    "## Author:\n",
    "Henny"
   ]
  },
  {
   "cell_type": "code",
   "execution_count": 14,
   "id": "86ce1c7b-1f87-4b76-8767-3fec7d6f1683",
   "metadata": {},
   "outputs": [
    {
     "data": {
      "text/plain": [
       "'C:\\\\Users\\\\Mogotaberu'"
      ]
     },
     "execution_count": 14,
     "metadata": {},
     "output_type": "execute_result"
    }
   ],
   "source": [
    "import os\n",
    "os.getcwd()\n"
   ]
  },
  {
   "cell_type": "code",
   "execution_count": null,
   "id": "e47312a0-7e19-4606-923b-0f28bb707c1e",
   "metadata": {},
   "outputs": [],
   "source": []
  }
 ],
 "metadata": {
  "kernelspec": {
   "display_name": "Python 3 (ipykernel)",
   "language": "python",
   "name": "python3"
  },
  "language_info": {
   "codemirror_mode": {
    "name": "ipython",
    "version": 3
   },
   "file_extension": ".py",
   "mimetype": "text/x-python",
   "name": "python",
   "nbconvert_exporter": "python",
   "pygments_lexer": "ipython3",
   "version": "3.12.5"
  }
 },
 "nbformat": 4,
 "nbformat_minor": 5
}
